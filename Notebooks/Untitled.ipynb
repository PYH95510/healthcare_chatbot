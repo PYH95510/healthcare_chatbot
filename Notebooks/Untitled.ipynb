{
 "cells": [
  {
   "cell_type": "code",
   "execution_count": 71,
   "id": "9df91e39-b09d-4dbc-a627-6d7158ec37b1",
   "metadata": {},
   "outputs": [],
   "source": [
    "import pandas as pd\n",
    "import minsearch"
   ]
  },
  {
   "cell_type": "code",
   "execution_count": 48,
   "id": "0cbaee47-6503-4a67-884c-c598f9e4023f",
   "metadata": {},
   "outputs": [],
   "source": [
    "df = pd.read_csv('uncleaned_data.csv', sep=';')"
   ]
  },
  {
   "cell_type": "code",
   "execution_count": 50,
   "id": "78261c31-fea5-40ea-893b-d40db6ec235e",
   "metadata": {},
   "outputs": [],
   "source": [
    "df.to_csv('data.csv', index=False)"
   ]
  },
  {
   "cell_type": "code",
   "execution_count": 51,
   "id": "93f2f3a2-3b27-4218-bc67-855a5abbd898",
   "metadata": {},
   "outputs": [],
   "source": [
    "df = pd.read_csv('data.csv')"
   ]
  },
  {
   "cell_type": "code",
   "execution_count": 52,
   "id": "1552934c-3577-4170-9514-5b6e2f1c51c1",
   "metadata": {},
   "outputs": [
    {
     "data": {
      "text/html": [
       "<div>\n",
       "<style scoped>\n",
       "    .dataframe tbody tr th:only-of-type {\n",
       "        vertical-align: middle;\n",
       "    }\n",
       "\n",
       "    .dataframe tbody tr th {\n",
       "        vertical-align: top;\n",
       "    }\n",
       "\n",
       "    .dataframe thead th {\n",
       "        text-align: right;\n",
       "    }\n",
       "</style>\n",
       "<table border=\"1\" class=\"dataframe\">\n",
       "  <thead>\n",
       "    <tr style=\"text-align: right;\">\n",
       "      <th></th>\n",
       "      <th>exercise_name</th>\n",
       "      <th>type_of_activity</th>\n",
       "      <th>type_of_equipment</th>\n",
       "      <th>body_part</th>\n",
       "      <th>type</th>\n",
       "      <th>muscle_groups_activated</th>\n",
       "      <th>instructions</th>\n",
       "    </tr>\n",
       "  </thead>\n",
       "  <tbody>\n",
       "    <tr>\n",
       "      <th>0</th>\n",
       "      <td>Jumping Jacks</td>\n",
       "      <td>Strength</td>\n",
       "      <td>Cable Machine</td>\n",
       "      <td>Upper Body</td>\n",
       "      <td>Static</td>\n",
       "      <td>Core, Lats</td>\n",
       "      <td>Hold the position steadily, ensuring your Core...</td>\n",
       "    </tr>\n",
       "    <tr>\n",
       "      <th>1</th>\n",
       "      <td>Side Plank</td>\n",
       "      <td>Mobility</td>\n",
       "      <td>Kettlebells</td>\n",
       "      <td>Core</td>\n",
       "      <td>Hold</td>\n",
       "      <td>Abs, Hamstrings</td>\n",
       "      <td>Maintain a stable position, keeping your Abs, ...</td>\n",
       "    </tr>\n",
       "    <tr>\n",
       "      <th>2</th>\n",
       "      <td>Overhead Press</td>\n",
       "      <td>Mobility</td>\n",
       "      <td>NaN</td>\n",
       "      <td>Core</td>\n",
       "      <td>Push</td>\n",
       "      <td>Hip Flexors, Hamstrings, Core, Glutes</td>\n",
       "      <td>Perform the movement by engaging your Hip Flex...</td>\n",
       "    </tr>\n",
       "    <tr>\n",
       "      <th>3</th>\n",
       "      <td>Push-Ups</td>\n",
       "      <td>Cardio</td>\n",
       "      <td>Medicine Ball</td>\n",
       "      <td>Core</td>\n",
       "      <td>Static</td>\n",
       "      <td>Traps, Abs, Hip Flexors</td>\n",
       "      <td>Hold the position steadily, ensuring your Trap...</td>\n",
       "    </tr>\n",
       "    <tr>\n",
       "      <th>4</th>\n",
       "      <td>Bench Press</td>\n",
       "      <td>Cardio</td>\n",
       "      <td>Resistance Band</td>\n",
       "      <td>Full Body</td>\n",
       "      <td>Push</td>\n",
       "      <td>Shoulders, Chest</td>\n",
       "      <td>Perform the movement by engaging your Shoulder...</td>\n",
       "    </tr>\n",
       "    <tr>\n",
       "      <th>...</th>\n",
       "      <td>...</td>\n",
       "      <td>...</td>\n",
       "      <td>...</td>\n",
       "      <td>...</td>\n",
       "      <td>...</td>\n",
       "      <td>...</td>\n",
       "      <td>...</td>\n",
       "    </tr>\n",
       "    <tr>\n",
       "      <th>1015</th>\n",
       "      <td>Russian Twists</td>\n",
       "      <td>Mobility</td>\n",
       "      <td>Medicine Ball</td>\n",
       "      <td>Upper Body</td>\n",
       "      <td>Push</td>\n",
       "      <td>Triceps, Chest, Lower Back, Glutes</td>\n",
       "      <td>Perform the movement by engaging your Triceps,...</td>\n",
       "    </tr>\n",
       "    <tr>\n",
       "      <th>1016</th>\n",
       "      <td>Deadlifts</td>\n",
       "      <td>Mobility</td>\n",
       "      <td>Bodyweight</td>\n",
       "      <td>Full Body</td>\n",
       "      <td>Pull</td>\n",
       "      <td>Triceps, Glutes, Biceps</td>\n",
       "      <td>Pull the bodyweight towards you using your Tri...</td>\n",
       "    </tr>\n",
       "    <tr>\n",
       "      <th>1017</th>\n",
       "      <td>Plank</td>\n",
       "      <td>Cardio</td>\n",
       "      <td>NaN</td>\n",
       "      <td>Core</td>\n",
       "      <td>Static</td>\n",
       "      <td>Lats, Abs, Rear Deltoids, Shoulders</td>\n",
       "      <td>Hold the position steadily, ensuring your Lats...</td>\n",
       "    </tr>\n",
       "    <tr>\n",
       "      <th>1018</th>\n",
       "      <td>Wall Sit</td>\n",
       "      <td>Mobility</td>\n",
       "      <td>NaN</td>\n",
       "      <td>Lower Body</td>\n",
       "      <td>Pull</td>\n",
       "      <td>Lats, Core, Chest, Traps, Glutes</td>\n",
       "      <td>Pull the your body towards you using your Lats...</td>\n",
       "    </tr>\n",
       "    <tr>\n",
       "      <th>1019</th>\n",
       "      <td>Wall Sit</td>\n",
       "      <td>Warm-up</td>\n",
       "      <td>Kettlebells</td>\n",
       "      <td>Upper Body</td>\n",
       "      <td>Hold</td>\n",
       "      <td>Lats, Triceps, Quadriceps, Glutes</td>\n",
       "      <td>Maintain a stable position, keeping your Lats,...</td>\n",
       "    </tr>\n",
       "  </tbody>\n",
       "</table>\n",
       "<p>1020 rows × 7 columns</p>\n",
       "</div>"
      ],
      "text/plain": [
       "       exercise_name type_of_activity type_of_equipment   body_part    type  \\\n",
       "0      Jumping Jacks         Strength     Cable Machine  Upper Body  Static   \n",
       "1         Side Plank         Mobility       Kettlebells        Core    Hold   \n",
       "2     Overhead Press         Mobility               NaN        Core    Push   \n",
       "3           Push-Ups           Cardio     Medicine Ball        Core  Static   \n",
       "4        Bench Press           Cardio   Resistance Band   Full Body    Push   \n",
       "...              ...              ...               ...         ...     ...   \n",
       "1015  Russian Twists         Mobility     Medicine Ball  Upper Body    Push   \n",
       "1016       Deadlifts         Mobility        Bodyweight   Full Body    Pull   \n",
       "1017           Plank           Cardio               NaN        Core  Static   \n",
       "1018        Wall Sit         Mobility               NaN  Lower Body    Pull   \n",
       "1019        Wall Sit          Warm-up       Kettlebells  Upper Body    Hold   \n",
       "\n",
       "                    muscle_groups_activated  \\\n",
       "0                                Core, Lats   \n",
       "1                           Abs, Hamstrings   \n",
       "2     Hip Flexors, Hamstrings, Core, Glutes   \n",
       "3                   Traps, Abs, Hip Flexors   \n",
       "4                          Shoulders, Chest   \n",
       "...                                     ...   \n",
       "1015     Triceps, Chest, Lower Back, Glutes   \n",
       "1016                Triceps, Glutes, Biceps   \n",
       "1017    Lats, Abs, Rear Deltoids, Shoulders   \n",
       "1018       Lats, Core, Chest, Traps, Glutes   \n",
       "1019      Lats, Triceps, Quadriceps, Glutes   \n",
       "\n",
       "                                           instructions  \n",
       "0     Hold the position steadily, ensuring your Core...  \n",
       "1     Maintain a stable position, keeping your Abs, ...  \n",
       "2     Perform the movement by engaging your Hip Flex...  \n",
       "3     Hold the position steadily, ensuring your Trap...  \n",
       "4     Perform the movement by engaging your Shoulder...  \n",
       "...                                                 ...  \n",
       "1015  Perform the movement by engaging your Triceps,...  \n",
       "1016  Pull the bodyweight towards you using your Tri...  \n",
       "1017  Hold the position steadily, ensuring your Lats...  \n",
       "1018  Pull the your body towards you using your Lats...  \n",
       "1019  Maintain a stable position, keeping your Lats,...  \n",
       "\n",
       "[1020 rows x 7 columns]"
      ]
     },
     "execution_count": 52,
     "metadata": {},
     "output_type": "execute_result"
    }
   ],
   "source": [
    "df"
   ]
  },
  {
   "cell_type": "code",
   "execution_count": 55,
   "id": "eae3290b-1f3e-4a02-9c50-97475ef93208",
   "metadata": {},
   "outputs": [
    {
     "data": {
      "text/plain": [
       "Index(['exercise_name', 'type_of_activity', 'type_of_equipment', 'body_part',\n",
       "       'type', 'muscle_groups_activated', 'instructions'],\n",
       "      dtype='object')"
      ]
     },
     "execution_count": 55,
     "metadata": {},
     "output_type": "execute_result"
    }
   ],
   "source": [
    "df.columns"
   ]
  },
  {
   "cell_type": "code",
   "execution_count": 79,
   "id": "0398f973-96d6-4431-a7fb-bf200edf077c",
   "metadata": {},
   "outputs": [],
   "source": [
    "# Convert DataFrame to a list of dictionaries and handle NaN values\n",
    "documents = [\n",
    "    {key: (value if pd.notnull(value) else \"\") for key, value in record.items()}\n",
    "    for record in df.to_dict(orient='records')\n",
    "]\n"
   ]
  },
  {
   "cell_type": "code",
   "execution_count": 81,
   "id": "aa8a8183-be3d-4166-9ff2-76d867838f23",
   "metadata": {},
   "outputs": [],
   "source": [
    "index = minsearch.Index(\n",
    "    text_fields =['exercise_name', 'type_of_activity', 'type_of_equipment', 'body_part',\n",
    "       'type', 'muscle_groups_activated', 'instructions'],\n",
    "    keyword_fields =[]\n",
    ")"
   ]
  },
  {
   "cell_type": "code",
   "execution_count": 83,
   "id": "f525421d-231d-4a76-849e-5b860d9a34f0",
   "metadata": {},
   "outputs": [
    {
     "data": {
      "text/plain": [
       "<minsearch.Index at 0x1747b7370>"
      ]
     },
     "execution_count": 83,
     "metadata": {},
     "output_type": "execute_result"
    }
   ],
   "source": [
    "index.fit(documents)"
   ]
  },
  {
   "cell_type": "code",
   "execution_count": 84,
   "id": "5fa6e3f3-062e-43ee-a15d-2b9ed2c164eb",
   "metadata": {},
   "outputs": [],
   "source": [
    "query=\"what's good leg exercises for my hamstrings?\""
   ]
  },
  {
   "cell_type": "code",
   "execution_count": 86,
   "id": "d680b1cc-9601-4ef8-b73a-fef2c363369d",
   "metadata": {},
   "outputs": [
    {
     "data": {
      "text/plain": [
       "[{'exercise_name': 'Leg Raises',\n",
       "  'type_of_activity': 'Warm-up',\n",
       "  'type_of_equipment': 'Dumbbells',\n",
       "  'body_part': 'Full Body',\n",
       "  'type': 'Hold',\n",
       "  'muscle_groups_activated': 'Forearms, Hamstrings',\n",
       "  'instructions': 'Maintain a stable position, keeping your Forearms, Hamstrings engaged throughout the duration.'},\n",
       " {'exercise_name': 'Leg Raises',\n",
       "  'type_of_activity': 'Warm-up',\n",
       "  'type_of_equipment': 'Dumbbells',\n",
       "  'body_part': 'Upper Body',\n",
       "  'type': 'Hold',\n",
       "  'muscle_groups_activated': 'Hamstrings, Rear Deltoids',\n",
       "  'instructions': 'Maintain a stable position, keeping your Hamstrings, Rear Deltoids engaged throughout the duration.'},\n",
       " {'exercise_name': 'Leg Raises',\n",
       "  'type_of_activity': 'Warm-up',\n",
       "  'type_of_equipment': '',\n",
       "  'body_part': 'Lower Body',\n",
       "  'type': 'Hold',\n",
       "  'muscle_groups_activated': 'Forearms, Hamstrings, Triceps',\n",
       "  'instructions': 'Maintain a stable position, keeping your Forearms, Hamstrings, Triceps engaged throughout the duration.'},\n",
       " {'exercise_name': 'Leg Raises',\n",
       "  'type_of_activity': 'Cardio',\n",
       "  'type_of_equipment': '',\n",
       "  'body_part': 'Full Body',\n",
       "  'type': 'Static',\n",
       "  'muscle_groups_activated': 'Hamstrings, Core, Forearms',\n",
       "  'instructions': 'Hold the position steadily, ensuring your Hamstrings, Core, Forearms remain activated without losing alignment.'},\n",
       " {'exercise_name': 'Leg Raises',\n",
       "  'type_of_activity': 'Cardio',\n",
       "  'type_of_equipment': '',\n",
       "  'body_part': 'Full Body',\n",
       "  'type': 'Static',\n",
       "  'muscle_groups_activated': 'Hamstrings, Core, Forearms',\n",
       "  'instructions': 'Hold the position steadily, ensuring your Hamstrings, Core, Forearms remain activated without losing alignment.'},\n",
       " {'exercise_name': 'Leg Raises',\n",
       "  'type_of_activity': 'Mobility',\n",
       "  'type_of_equipment': 'Medicine Ball',\n",
       "  'body_part': 'Full Body',\n",
       "  'type': 'Static',\n",
       "  'muscle_groups_activated': 'Shoulders, Hamstrings, Chest, Triceps',\n",
       "  'instructions': 'Hold the position steadily, ensuring your Shoulders, Hamstrings, Chest, Triceps remain activated without losing alignment.'},\n",
       " {'exercise_name': 'Leg Raises',\n",
       "  'type_of_activity': 'Mobility',\n",
       "  'type_of_equipment': 'Dumbbells',\n",
       "  'body_part': 'Core',\n",
       "  'type': 'Hold',\n",
       "  'muscle_groups_activated': 'Hamstrings, Shoulders, Traps, Chest, Triceps',\n",
       "  'instructions': 'Maintain a stable position, keeping your Hamstrings, Shoulders, Traps, Chest, Triceps engaged throughout the duration.'},\n",
       " {'exercise_name': 'Leg Raises',\n",
       "  'type_of_activity': 'Warm-up',\n",
       "  'type_of_equipment': 'Cable Machine',\n",
       "  'body_part': 'Full Body',\n",
       "  'type': 'Push',\n",
       "  'muscle_groups_activated': 'Hamstrings, Quadriceps, Shoulders, Hip Flexors',\n",
       "  'instructions': 'Perform the movement by engaging your Hamstrings, Quadriceps, Shoulders, Hip Flexors and keeping proper form. Avoid overextending.'},\n",
       " {'exercise_name': 'Leg Raises',\n",
       "  'type_of_activity': 'Strength',\n",
       "  'type_of_equipment': 'Cable Machine',\n",
       "  'body_part': 'Upper Body',\n",
       "  'type': 'Hold',\n",
       "  'muscle_groups_activated': 'Hamstrings, Quadriceps, Forearms, Lower Back, Glutes',\n",
       "  'instructions': 'Maintain a stable position, keeping your Hamstrings, Quadriceps, Forearms, Lower Back, Glutes engaged throughout the duration.'},\n",
       " {'exercise_name': 'Leg Raises',\n",
       "  'type_of_activity': 'Strength',\n",
       "  'type_of_equipment': 'Cable Machine',\n",
       "  'body_part': 'Core',\n",
       "  'type': 'Static',\n",
       "  'muscle_groups_activated': 'Hamstrings, Traps, Glutes, Lats, Hip Flexors',\n",
       "  'instructions': 'Hold the position steadily, ensuring your Hamstrings, Traps, Glutes, Lats, Hip Flexors remain activated without losing alignment.'}]"
      ]
     },
     "execution_count": 86,
     "metadata": {},
     "output_type": "execute_result"
    }
   ],
   "source": [
    "index.search(query, num_results = 10)"
   ]
  },
  {
   "cell_type": "code",
   "execution_count": 90,
   "id": "78b44daf-b9fc-44c7-8b16-c80a807f0da8",
   "metadata": {},
   "outputs": [
    {
     "name": "stdout",
     "output_type": "stream",
     "text": [
      "Collecting ollama\n",
      "  Downloading ollama-0.4.4-py3-none-any.whl.metadata (4.7 kB)\n",
      "Collecting httpx<0.28.0,>=0.27.0 (from ollama)\n",
      "  Using cached httpx-0.27.2-py3-none-any.whl.metadata (7.1 kB)\n",
      "Collecting pydantic<3.0.0,>=2.9.0 (from ollama)\n",
      "  Downloading pydantic-2.10.4-py3-none-any.whl.metadata (29 kB)\n",
      "Requirement already satisfied: anyio in /Users/yohanpark/.local/share/virtualenvs/Healthcare_Chatbot-CgOLerrS/lib/python3.10/site-packages (from httpx<0.28.0,>=0.27.0->ollama) (4.7.0)\n",
      "Requirement already satisfied: certifi in /Users/yohanpark/.local/share/virtualenvs/Healthcare_Chatbot-CgOLerrS/lib/python3.10/site-packages (from httpx<0.28.0,>=0.27.0->ollama) (2024.12.14)\n",
      "Requirement already satisfied: httpcore==1.* in /Users/yohanpark/.local/share/virtualenvs/Healthcare_Chatbot-CgOLerrS/lib/python3.10/site-packages (from httpx<0.28.0,>=0.27.0->ollama) (1.0.7)\n",
      "Requirement already satisfied: idna in /Users/yohanpark/.local/share/virtualenvs/Healthcare_Chatbot-CgOLerrS/lib/python3.10/site-packages (from httpx<0.28.0,>=0.27.0->ollama) (3.10)\n",
      "Requirement already satisfied: sniffio in /Users/yohanpark/.local/share/virtualenvs/Healthcare_Chatbot-CgOLerrS/lib/python3.10/site-packages (from httpx<0.28.0,>=0.27.0->ollama) (1.3.1)\n",
      "Requirement already satisfied: h11<0.15,>=0.13 in /Users/yohanpark/.local/share/virtualenvs/Healthcare_Chatbot-CgOLerrS/lib/python3.10/site-packages (from httpcore==1.*->httpx<0.28.0,>=0.27.0->ollama) (0.14.0)\n",
      "Collecting annotated-types>=0.6.0 (from pydantic<3.0.0,>=2.9.0->ollama)\n",
      "  Using cached annotated_types-0.7.0-py3-none-any.whl.metadata (15 kB)\n",
      "Collecting pydantic-core==2.27.2 (from pydantic<3.0.0,>=2.9.0->ollama)\n",
      "  Downloading pydantic_core-2.27.2-cp310-cp310-macosx_11_0_arm64.whl.metadata (6.6 kB)\n",
      "Requirement already satisfied: typing-extensions>=4.12.2 in /Users/yohanpark/.local/share/virtualenvs/Healthcare_Chatbot-CgOLerrS/lib/python3.10/site-packages (from pydantic<3.0.0,>=2.9.0->ollama) (4.12.2)\n",
      "Requirement already satisfied: exceptiongroup>=1.0.2 in /Users/yohanpark/.local/share/virtualenvs/Healthcare_Chatbot-CgOLerrS/lib/python3.10/site-packages (from anyio->httpx<0.28.0,>=0.27.0->ollama) (1.2.2)\n",
      "Downloading ollama-0.4.4-py3-none-any.whl (13 kB)\n",
      "Using cached httpx-0.27.2-py3-none-any.whl (76 kB)\n",
      "Downloading pydantic-2.10.4-py3-none-any.whl (431 kB)\n",
      "Downloading pydantic_core-2.27.2-cp310-cp310-macosx_11_0_arm64.whl (1.8 MB)\n",
      "\u001b[2K   \u001b[38;2;114;156;31m━━━━━━━━━━━━━━━━━━━━━━━━━━━━━━━━━━━━━━━━\u001b[0m \u001b[32m1.8/1.8 MB\u001b[0m \u001b[31m33.2 MB/s\u001b[0m eta \u001b[36m0:00:00\u001b[0m\n",
      "\u001b[?25hUsing cached annotated_types-0.7.0-py3-none-any.whl (13 kB)\n",
      "Installing collected packages: pydantic-core, annotated-types, pydantic, httpx, ollama\n",
      "  Attempting uninstall: httpx\n",
      "    Found existing installation: httpx 0.28.1\n",
      "    Uninstalling httpx-0.28.1:\n",
      "      Successfully uninstalled httpx-0.28.1\n",
      "Successfully installed annotated-types-0.7.0 httpx-0.27.2 ollama-0.4.4 pydantic-2.10.4 pydantic-core-2.27.2\n"
     ]
    }
   ],
   "source": [
    "!pip install ollama"
   ]
  },
  {
   "cell_type": "code",
   "execution_count": 105,
   "id": "feb1e2bb-af54-48bf-b1ae-84b0886b5bd7",
   "metadata": {},
   "outputs": [],
   "source": [
    "from ollama import chat,ChatResponse\n",
    "import ollama"
   ]
  },
  {
   "cell_type": "code",
   "execution_count": 109,
   "id": "7f8773fe-f25f-4edf-bd03-5e8eb8f286ac",
   "metadata": {},
   "outputs": [
    {
     "name": "stdout",
     "output_type": "stream",
     "text": [
      "The hamstrings are a crucial group of muscles that run down the back of your thighs, from the hip to the knee. Here are some effective leg exercises that target your hamstrings:\n",
      "\n",
      "1. **Deadlifts**: Deadlifts work multiple muscle groups, including your hamstrings. To perform deadlifts:\n",
      "\t* Stand with your feet shoulder-width apart.\n",
      "\t* Bend at the hips and knees, keeping your back straight.\n",
      "\t* Lower your body until you're in a half-squat position.\n",
      "\t* Push through your heels to return to standing.\n",
      "2. **Leg Press**: The leg press is an excellent exercise for targeting your hamstrings without putting excessive stress on your lower back.\n",
      "\t* Sit at a leg press machine with your feet shoulder-width apart on the platform.\n",
      "\t* Press the platform away from you, extending your legs.\n",
      "\t* Lower the platform to the starting position, keeping control throughout the movement.\n",
      "3. **Leg Curls**: This exercise specifically targets the hamstrings.\n",
      "\t* Sit at a leg curl machine with your legs hanging off the edge of the bench.\n",
      "\t* Curl your heels towards your glutes, squeezing your hamstrings at the top of the movement.\n",
      "\t* Lower your legs back to the starting position, keeping control throughout the movement.\n",
      "4. **Glute-Ham Raises**: This exercise targets both your hamstrings and glutes.\n",
      "\t* Lie on a flat bench or mat with your knees bent and feet flat on the surface.\n",
      "\t* Lift your hips off the ground, squeezing your hamstrings and glutes at the top of the movement.\n",
      "\t* Lower your hips back to the starting position, keeping control throughout the movement.\n",
      "5. **Step-Ups**: This exercise not only targets your hamstrings but also works your quads and glutes.\n",
      "\t* Stand in front of a step or bench with your right foot on the edge.\n",
      "\t* Step up onto the platform with your left foot.\n",
      "\t* Bring your right foot up to meet your left, then step back down to the starting position.\n",
      "6. **Hip Thrusts**: This exercise targets the posterior chain muscles, including your hamstrings.\n",
      "\t* Sit at the edge of a bench or mat with your feet flat on the surface.\n",
      "\t* Place your hands under your glutes for support.\n",
      "\t* Lift your hips off the ground, squeezing your hamstrings and glutes at the top of the movement.\n",
      "\n",
      "Remember to:\n",
      "\n",
      "* Start with lighter weights and progress gradually to avoid injury.\n",
      "* Focus on proper form and technique throughout each exercise.\n",
      "* Incorporate these exercises into a well-rounded workout routine that targets multiple muscle groups.\n",
      "\n",
      "Are you looking for more information or variations on these exercises?\n"
     ]
    }
   ],
   "source": [
    "llm = 'llama3.1:8b'\n",
    "response: ChatResponse = chat(model=llm,messages=[{\n",
    "        'role':'user',\n",
    "        'content':query\n",
    "    }])  \n",
    "print(response.message.content)\n"
   ]
  },
  {
   "cell_type": "code",
   "execution_count": 114,
   "id": "bbd1bc2b-467f-4b08-9b8f-5254b7c36d12",
   "metadata": {},
   "outputs": [],
   "source": [
    "def search(query):\n",
    "    boost = {}\n",
    "\n",
    "    results = index.search(\n",
    "        query=query,\n",
    "        filter_dict={},\n",
    "        boost_dict=boost,\n",
    "        num_results=10\n",
    "    )\n",
    "\n",
    "    return results"
   ]
  },
  {
   "cell_type": "code",
   "execution_count": 110,
   "id": "3d7062a2-4c57-4004-8f39-60d22ed58586",
   "metadata": {},
   "outputs": [
    {
     "data": {
      "text/plain": [
       "{'exercise_name': 'Jumping Jacks',\n",
       " 'type_of_activity': 'Strength',\n",
       " 'type_of_equipment': 'Cable Machine',\n",
       " 'body_part': 'Upper Body',\n",
       " 'type': 'Static',\n",
       " 'muscle_groups_activated': 'Core, Lats',\n",
       " 'instructions': 'Hold the position steadily, ensuring your Core, Lats remain activated without losing alignment.'}"
      ]
     },
     "execution_count": 110,
     "metadata": {},
     "output_type": "execute_result"
    }
   ],
   "source": [
    "documents[0]"
   ]
  },
  {
   "cell_type": "code",
   "execution_count": null,
   "id": "fabcf114-de14-4dab-914a-13d071f7b8f2",
   "metadata": {},
   "outputs": [],
   "source": [
    "#Building Prompts"
   ]
  },
  {
   "cell_type": "code",
   "execution_count": 125,
   "id": "81126dae-bdf4-4b78-90bd-8c4d7e84b561",
   "metadata": {},
   "outputs": [],
   "source": [
    "prompt_template = \"\"\"\n",
    "You're a fitness instructor.  Answer the QUESTION based on the CONTEXT from the exercise database.\n",
    "Use only the facts from the CONTEXT when answering the QUESTION. You do not need to say that you are referring my database\n",
    "\n",
    "QUESTION: {question}\n",
    "\n",
    "CONTEXT: \n",
    "{context}\n",
    "\"\"\".strip()\n",
    "\n",
    "entry_template=\"\"\"\n",
    "exercise_name: {exercise_name}\n",
    "type_of_activity: {type_of_activity}\n",
    "type_of_equipment: {type_of_equipment}\n",
    "body_part: {body_part}\n",
    "type: {type}\n",
    "muscle_groups_activated: {muscle_groups_activated}\n",
    "instructions:{instructions}\n",
    "\"\"\".strip()\n",
    "\n",
    "def build_prompt(query, search_results):\n",
    "    \n",
    "\n",
    "    context = \"\"\n",
    "    \n",
    "    for doc in search_results:\n",
    "        context = context + entry_template.format(**doc) + \"\\n\\n\"\n",
    "        \n",
    "    \n",
    "    prompt = prompt_template.format(question=query, context=context).strip()\n",
    "    return prompt\n"
   ]
  },
  {
   "cell_type": "code",
   "execution_count": 115,
   "id": "925c6ade-a6be-49fb-a8e0-c9be8e5a1ca4",
   "metadata": {},
   "outputs": [],
   "source": [
    "search_results = search(query)\n",
    "prompt = build_prompt(query, search_results)"
   ]
  },
  {
   "cell_type": "code",
   "execution_count": 120,
   "id": "52191159-9c6e-4c3e-bdba-66b2d6acb9a6",
   "metadata": {},
   "outputs": [],
   "source": [
    "def llm(prompt):\n",
    "    llm = 'llama3.1:8b'\n",
    "    response: ChatResponse = chat(model=llm,messages=[{\n",
    "        'role':'user',\n",
    "        'content':prompt\n",
    "    }])\n",
    "    \n",
    "    return response.message.content"
   ]
  },
  {
   "cell_type": "code",
   "execution_count": 121,
   "id": "b7af4748-fcde-433b-b6ff-024e176c20f8",
   "metadata": {},
   "outputs": [],
   "source": [
    "def rag(query):\n",
    "    search_results = search(query)\n",
    "    prompt = build_prompt(query, search_results)\n",
    "    answer = llm(prompt)\n",
    "    return answer"
   ]
  },
  {
   "cell_type": "code",
   "execution_count": 126,
   "id": "07e4c530-e4ec-4c98-a899-5c4a4bfe2ac7",
   "metadata": {},
   "outputs": [
    {
     "name": "stdout",
     "output_type": "stream",
     "text": [
      "Based on the exercises listed, here are some core exercises that can help with back stability:\n",
      "\n",
      "1. **Plank-based Lunges** (exercise_name: Lunges): This exercise engages the Core, Abs, and Lower Back.\n",
      "2. **Deadlifts with Kettlebells** (exercise_name: Deadlifts): This exercise activates the Lower Back and Core.\n",
      "3. **Burpees** (exercise_name: Burpees): Although a full-body exercise, Burpees also engage the Lower Back and Core.\n",
      "4. **Mountain Climbers** (exercise_name: Mountain Climbers): This exercise engages the Lower Back, Shoulders, Core, and Hamstrings.\n",
      "\n",
      "These exercises can help strengthen your core muscles, which in turn can provide stability and support for your back. However, it's essential to maintain proper form and engage your core muscles throughout each exercise to avoid putting unnecessary strain on your back.\n"
     ]
    }
   ],
   "source": [
    "answer = rag('I want some core exercises that helps my back')\n",
    "print(answer)"
   ]
  },
  {
   "cell_type": "code",
   "execution_count": null,
   "id": "167d4d1c-fbfc-4026-83ff-70b914f75c61",
   "metadata": {},
   "outputs": [],
   "source": []
  }
 ],
 "metadata": {
  "kernelspec": {
   "display_name": "Python 3 (ipykernel)",
   "language": "python",
   "name": "python3"
  },
  "language_info": {
   "codemirror_mode": {
    "name": "ipython",
    "version": 3
   },
   "file_extension": ".py",
   "mimetype": "text/x-python",
   "name": "python",
   "nbconvert_exporter": "python",
   "pygments_lexer": "ipython3",
   "version": "3.10.11"
  }
 },
 "nbformat": 4,
 "nbformat_minor": 5
}
